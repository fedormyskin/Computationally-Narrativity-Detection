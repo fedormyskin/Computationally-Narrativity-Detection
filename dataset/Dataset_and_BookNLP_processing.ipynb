{
  "nbformat": 4,
  "nbformat_minor": 0,
  "metadata": {
    "colab": {
      "name": "BookNLP_processing.ipynb",
      "provenance": [],
      "collapsed_sections": []
    },
    "kernelspec": {
      "name": "python3",
      "display_name": "Python 3"
    },
    "language_info": {
      "name": "python"
    },
    "accelerator": "GPU"
  },
  "cells": [
    {
      "cell_type": "code",
      "source": [
        "!pip install booknlp\n",
        "!python3 -m spacy download en_core_web_sm"
      ],
      "metadata": {
        "id": "1PV8nFUJZQmP"
      },
      "execution_count": null,
      "outputs": []
    },
    {
      "cell_type": "code",
      "execution_count": null,
      "metadata": {
        "id": "VBZc2YEaMVJJ"
      },
      "outputs": [],
      "source": [
        "from booknlp.booknlp import BookNLP\n",
        "import pandas as pd\n",
        "import numpy as np\n",
        "import os\n",
        "\n",
        "# Directory including all minNarrative_txtfiles\n",
        "rootdir = '/content/drive/MyDrive/minNarrative_txtfiles_copy/'\n",
        "\n",
        "# BookNLP output directory\n",
        "output_directory = '/content/drive/MyDrive/BookNLP'\n",
        "\n",
        "# Path to 'MinNarrative_ReaderData_Final.csv' (Piper et al., 2022) (Delete rows of genre 'MEM' in this file, as we don't have these documents)\n",
        "path = '/content/drive/MyDrive/MinNarrative_ReaderData_Final.csv'"
      ]
    },
    {
      "cell_type": "code",
      "source": [
        "def load_annotated_data():\n",
        "    \"\"\"\"Get filenames of annotated passages\"\"\"\n",
        "    # Data from Piper 2022\n",
        "    df = pd.read_csv(path)\n",
        "    print(\"Loading annotated data from:\", path)\n",
        "\n",
        "    X, Y = [], []\n",
        "    for fname in df['FILENAME'].values:\n",
        "        X.append(fname)\n",
        "    return np.array(X)\n",
        "\n",
        "# Get filenames of annotated files\n",
        "annotated_files = load_annotated_data()\n",
        "print(len(annotated_files))\n",
        "\n",
        "    # Remove files which are not annotated\n",
        "for subdir, dirs, files in os.walk(rootdir):\n",
        "      for file in files:\n",
        "          if file not in annotated_files:\n",
        "              filepath = os.path.join(subdir, file)\n",
        "              os.remove(filepath)"
      ],
      "metadata": {
        "id": "nw76qBkej-8-"
      },
      "execution_count": null,
      "outputs": []
    },
    {
      "cell_type": "code",
      "source": [
        "# model_params = {\n",
        "#     \"pipeline\":\"entity,event\",\n",
        "#     \"model\": \"small\"\n",
        "# }\n",
        "\n",
        "model_params = {\n",
        "    \"pipeline\":\"entity,quote,supersense,event,coref\",\n",
        "    \"model\": \"small\"\n",
        "}\n",
        "\n",
        "\n",
        "booknlp = BookNLP(\"en\", model_params)\n",
        "counter = 0\n",
        "\n",
        "for subdir, dirs, files in os.walk(rootdir):\n",
        "    for file in files:\n",
        "      counter +=1\n",
        "      print(counter, file)\n",
        "      input_file = os.path.join(subdir, file)\n",
        "\n",
        "      # File within this directory will be named input_file.entities, input_file.tokens, etc.\n",
        "      booknlp.process(input_file, output_directory+'/'+file, file)\n"
      ],
      "metadata": {
        "id": "mtK-FJchjtXc"
      },
      "execution_count": null,
      "outputs": []
    }
  ]
}